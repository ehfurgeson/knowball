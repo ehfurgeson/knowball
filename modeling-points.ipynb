{
 "cells": [
  {
   "cell_type": "markdown",
   "metadata": {},
   "source": [
    "Now that I have a good way to consistently gather data and a way to easily visualize it, it is time to build some models <br>\n",
    "Random forest, I will try these without the recommended defensive rating and usage rate (I know where to get usage rate though so I can add it if needed) <br>\n",
    "I think getting the past 3 to 5 or so seasons for a player and training it on that would be good <br>\n",
    "Adding a variable of how many days or games into the season we are could be good <br>"
   ]
  },
  {
   "cell_type": "code",
   "execution_count": null,
   "metadata": {},
   "outputs": [],
   "source": [
    "from sklearn.ensemble import RandomForestClassifier\n",
    "from sklearn.model_selection import train_test_split\n",
    "from sklearn.metrics import accuracy_score\n",
    "from sklearn.metrics import confusion_matrix\n",
    "from sklearn.metrics import classification_report\n",
    "from sklearn import datasets\n",
    "import pandas as pd\n",
    "import numpy as np\n",
    "import get_nba_data as nba"
   ]
  },
  {
   "cell_type": "code",
   "execution_count": null,
   "metadata": {},
   "outputs": [],
   "source": [
    "# get Lebron James data\n",
    "df19 = nba.get_player_data('LeBron James', '2019-20')\n",
    "df20 = nba.get_player_data('LeBron James', '2020-21')\n",
    "df21 = nba.get_player_data('LeBron James', '2021-22')\n",
    "df22 = nba.get_player_data('LeBron James', '2022-23')\n",
    "df23 = nba.get_player_data('LeBron James', '2023-24')\n",
    "\n",
    "# combine data\n",
    "df = pd.concat([df19, df20, df21, df22, df23])"
   ]
  }
 ],
 "metadata": {
  "kernelspec": {
   "display_name": "base",
   "language": "python",
   "name": "python3"
  },
  "language_info": {
   "name": "python",
   "version": "3.12.2"
  }
 },
 "nbformat": 4,
 "nbformat_minor": 2
}
