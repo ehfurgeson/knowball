{
 "cells": [
  {
   "cell_type": "markdown",
   "metadata": {},
   "source": [
    "Now that I have a good way to consistently gather data and a way to easily visualize it, it is time to build some models <br>\n",
    "Random forest, I will try these without the recommended defensive rating and usage rate (I know where to get usage rate though so I can add it if needed) <br>\n",
    "I think getting the past 3 to 5 or so seasons for a player and training it on that would be good <br>\n",
    "Adding a variable of how many days or games into the season we are could be good <br>"
   ]
  },
  {
   "cell_type": "code",
   "execution_count": 1,
   "metadata": {},
   "outputs": [],
   "source": [
    "from sklearn.ensemble import RandomForestRegressor\n",
    "from sklearn import datasets\n",
    "import pandas as pd\n",
    "import get_nba_data as nba"
   ]
  },
  {
   "cell_type": "code",
   "execution_count": null,
   "metadata": {},
   "outputs": [
    {
     "name": "stdout",
     "output_type": "stream",
     "text": [
      "Player ID: 2544\n",
      "Player ID: 2544\n",
      "Player ID: 2544\n",
      "Player ID: 2544\n",
      "Player ID: 2544\n"
     ]
    }
   ],
   "source": [
    "# get Lebron James data\n",
    "df19 = nba.get_player_data('LeBron James', '2019-20')\n",
    "df20 = nba.get_player_data('LeBron James', '2020-21')\n",
    "df21 = nba.get_player_data('LeBron James', '2021-22')\n",
    "df22 = nba.get_player_data('LeBron James', '2022-23')\n",
    "df23 = nba.get_player_data('LeBron James', '2023-24')\n",
    "\n",
    "# combine data\n",
    "df = pd.concat([df19, df20, df21, df22, df23])"
   ]
  },
  {
   "cell_type": "code",
   "execution_count": 3,
   "metadata": {},
   "outputs": [
    {
     "data": {
      "text/plain": [
       "<bound method NDFrame.head of     game_date  points    minutes  is_home  points_ma  minutes_played_ma  \\\n",
       "0  2020-08-13      17  14.600000     True  17.000000          14.600000   \n",
       "1  2020-08-10      29  38.100000     True  23.000000          26.350000   \n",
       "2  2020-08-08      31  35.150000    False  25.666667          29.283333   \n",
       "3  2020-08-05      19  30.283333     True  24.000000          29.533333   \n",
       "4  2020-08-03      22  34.896667    False  23.600000          30.606000   \n",
       "..        ...     ...        ...      ...        ...                ...   \n",
       "66 2023-11-01      35  42.483333     True  27.800000          35.736667   \n",
       "67 2023-10-30      19  32.783333     True  25.200000          35.016667   \n",
       "68 2023-10-29      27  39.083333    False  27.000000          37.393333   \n",
       "69 2023-10-26      21  35.000000     True  25.200000          36.913333   \n",
       "70 2023-10-24      21  29.010000    False  24.600000          35.672000   \n",
       "\n",
       "    days_rest  back_to_back  season_avg_points   last_5_games_points  \n",
       "0         NaN         False          17.000000                  [17]  \n",
       "1        -3.0         False          23.000000              [17, 29]  \n",
       "2        -2.0         False          25.666667          [17, 29, 31]  \n",
       "3        -3.0         False          24.000000      [17, 29, 31, 19]  \n",
       "4        -2.0         False          23.600000  [17, 29, 31, 19, 22]  \n",
       "..        ...           ...                ...                   ...  \n",
       "66       -3.0         False          25.880597  [32, 18, 30, 24, 35]  \n",
       "67       -2.0         False          25.779412  [18, 30, 24, 35, 19]  \n",
       "68       -1.0         False          25.797101  [30, 24, 35, 19, 27]  \n",
       "69       -3.0         False          25.728571  [24, 35, 19, 27, 21]  \n",
       "70       -2.0         False          25.661972  [35, 19, 27, 21, 21]  \n",
       "\n",
       "[294 rows x 10 columns]>"
      ]
     },
     "execution_count": 3,
     "metadata": {},
     "output_type": "execute_result"
    }
   ],
   "source": [
    "df.head"
   ]
  }
 ],
 "metadata": {
  "kernelspec": {
   "display_name": "base",
   "language": "python",
   "name": "python3"
  },
  "language_info": {
   "codemirror_mode": {
    "name": "ipython",
    "version": 3
   },
   "file_extension": ".py",
   "mimetype": "text/x-python",
   "name": "python",
   "nbconvert_exporter": "python",
   "pygments_lexer": "ipython3",
   "version": "3.12.2"
  }
 },
 "nbformat": 4,
 "nbformat_minor": 2
}
