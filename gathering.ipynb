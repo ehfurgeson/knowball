{
 "cells": [
  {
   "cell_type": "markdown",
   "metadata": {},
   "source": [
    "Individual NBA player points regression \\\n",
    "Plans\n",
    "- gather data\n",
    "    - save to a csv\n",
    "- try a simple linear regression\n",
    "- try more complex random forest regression\n",
    "- use random forest to create confidence intervals"
   ]
  },
  {
   "cell_type": "code",
   "execution_count": 37,
   "metadata": {},
   "outputs": [],
   "source": [
    "from nba_api.stats.endpoints import PlayerGameLogs\n",
    "from nba_api.stats.static import players\n",
    "import pandas as pd\n",
    "import numpy as np\n",
    "from datetime import datetime, timedelta\n",
    "import os"
   ]
  },
  {
   "cell_type": "code",
   "execution_count": 19,
   "metadata": {},
   "outputs": [],
   "source": [
    "df = pd.read_csv(\"./data/2023_nba_player_stats.csv\")"
   ]
  },
  {
   "cell_type": "code",
   "execution_count": null,
   "metadata": {},
   "outputs": [],
   "source": [
    "# Get the player game logs with the correct parameter\n",
    "player_game_logs = PlayerGameLogs(season_nullable='2023-24')\n",
    "player_game_logs_df = player_game_logs.get_data_frames()[0]\n",
    "\n",
    "# createa csv file with the player game logs\n",
    "player_game_logs_df.to_csv(\"./data/logs_2023_nba_players.csv\", index=False)"
   ]
  },
  {
   "cell_type": "code",
   "execution_count": 44,
   "metadata": {},
   "outputs": [
    {
     "name": "stdout",
     "output_type": "stream",
     "text": [
      "Index(['SEASON_YEAR', 'PLAYER_ID', 'PLAYER_NAME', 'NICKNAME', 'TEAM_ID',\n",
      "       'TEAM_ABBREVIATION', 'TEAM_NAME', 'GAME_ID', 'GAME_DATE', 'MATCHUP',\n",
      "       'WL', 'MIN', 'FGM', 'FGA', 'FG_PCT', 'FG3M', 'FG3A', 'FG3_PCT', 'FTM',\n",
      "       'FTA', 'FT_PCT', 'OREB', 'DREB', 'REB', 'AST', 'TOV', 'STL', 'BLK',\n",
      "       'BLKA', 'PF', 'PFD', 'PTS', 'PLUS_MINUS', 'NBA_FANTASY_PTS', 'DD2',\n",
      "       'TD3', 'WNBA_FANTASY_PTS', 'GP_RANK', 'W_RANK', 'L_RANK', 'W_PCT_RANK',\n",
      "       'MIN_RANK', 'FGM_RANK', 'FGA_RANK', 'FG_PCT_RANK', 'FG3M_RANK',\n",
      "       'FG3A_RANK', 'FG3_PCT_RANK', 'FTM_RANK', 'FTA_RANK', 'FT_PCT_RANK',\n",
      "       'OREB_RANK', 'DREB_RANK', 'REB_RANK', 'AST_RANK', 'TOV_RANK',\n",
      "       'STL_RANK', 'BLK_RANK', 'BLKA_RANK', 'PF_RANK', 'PFD_RANK', 'PTS_RANK',\n",
      "       'PLUS_MINUS_RANK', 'NBA_FANTASY_PTS_RANK', 'DD2_RANK', 'TD3_RANK',\n",
      "       'WNBA_FANTASY_PTS_RANK', 'AVAILABLE_FLAG', 'MIN_SEC'],\n",
      "      dtype='object')\n"
     ]
    }
   ],
   "source": [
    "print(player_game_logs_df.columns)"
   ]
  },
  {
   "cell_type": "code",
   "execution_count": null,
   "metadata": {},
   "outputs": [
    {
     "name": "stdout",
     "output_type": "stream",
     "text": [
      "201939\n"
     ]
    },
    {
     "ename": "TypeError",
     "evalue": "PlayerGameLogs.__init__() got an unexpected keyword argument 'player_ids'",
     "output_type": "error",
     "traceback": [
      "\u001b[0;31m---------------------------------------------------------------------------\u001b[0m",
      "\u001b[0;31mTypeError\u001b[0m                                 Traceback (most recent call last)",
      "Cell \u001b[0;32mIn[11], line 42\u001b[0m\n\u001b[1;32m     39\u001b[0m     \u001b[38;5;28;01mreturn\u001b[39;00m df\n\u001b[1;32m     41\u001b[0m \u001b[38;5;66;03m# Example usage\u001b[39;00m\n\u001b[0;32m---> 42\u001b[0m player_data \u001b[38;5;241m=\u001b[39m get_player_data(\u001b[38;5;124m'\u001b[39m\u001b[38;5;124mStephen Curry\u001b[39m\u001b[38;5;124m'\u001b[39m)\n",
      "Cell \u001b[0;32mIn[11], line 14\u001b[0m, in \u001b[0;36mget_player_data\u001b[0;34m(player_name, season)\u001b[0m\n\u001b[1;32m     11\u001b[0m \u001b[38;5;28mprint\u001b[39m(player_id)\n\u001b[1;32m     13\u001b[0m \u001b[38;5;66;03m# Get game logs\u001b[39;00m\n\u001b[0;32m---> 14\u001b[0m game_logs \u001b[38;5;241m=\u001b[39m PlayerGameLogs(player_ids\u001b[38;5;241m=\u001b[39m[player_id], season_nullable\u001b[38;5;241m=\u001b[39mseason)\u001b[38;5;241m.\u001b[39mget_data_frames()[\u001b[38;5;241m0\u001b[39m]\n\u001b[1;32m     16\u001b[0m \u001b[38;5;66;03m# Process into required features\u001b[39;00m\n\u001b[1;32m     17\u001b[0m df \u001b[38;5;241m=\u001b[39m pd\u001b[38;5;241m.\u001b[39mDataFrame()\n",
      "\u001b[0;31mTypeError\u001b[0m: PlayerGameLogs.__init__() got an unexpected keyword argument 'player_ids'"
     ]
    }
   ],
   "source": [
    "def get_player_data(player_name, season='2023-24'):\n",
    "    # Get player ID\n",
    "    player_dict = players.find_players_by_full_name(player_name)[0]\n",
    "    player_id = player_dict['id']\n",
    "    print(player_id)\n",
    "    \n",
    "    # Get game logs\n",
    "    game_logs = PlayerGameLogs(player_id=player_id, season=season).get_data_frames()[0]\n",
    "    \n",
    "    # Process into required features\n",
    "    df = pd.DataFrame()\n",
    "    \n",
    "    # Basic game info\n",
    "    df['game_date'] = pd.to_datetime(game_logs['GAME_DATE'])\n",
    "    df['points'] = game_logs['PTS']\n",
    "    df['minutes'] = game_logs['MIN']\n",
    "    df['is_home'] = game_logs['MATCHUP'].str.contains('vs.')\n",
    "    \n",
    "    # Calculate rolling averages\n",
    "    df['points_ma'] = df['points'].rolling(5, min_periods=1).mean()\n",
    "    df['minutes_played_ma'] = df['minutes'].rolling(5, min_periods=1).mean()\n",
    "    \n",
    "    # Calculate rest days and back-to-backs\n",
    "    df['days_rest'] = df['game_date'].diff().dt.days\n",
    "    df['back_to_back'] = df['days_rest'] == 1\n",
    "    \n",
    "    # Season averages\n",
    "    df['season_avg_points'] = df['points'].expanding().mean()\n",
    "    \n",
    "    # Last 5 games points (as a list)\n",
    "    df['last_5_games_points'] = df['points'].rolling(5, min_periods=1).apply(list)\n",
    "    \n",
    "    return df\n",
    "\n",
    "# Example usage\n",
    "player_data = get_player_data('Stephen Curry')"
   ]
  }
 ],
 "metadata": {
  "kernelspec": {
   "display_name": "base",
   "language": "python",
   "name": "python3"
  },
  "language_info": {
   "codemirror_mode": {
    "name": "ipython",
    "version": 3
   },
   "file_extension": ".py",
   "mimetype": "text/x-python",
   "name": "python",
   "nbconvert_exporter": "python",
   "pygments_lexer": "ipython3",
   "version": "3.12.2"
  }
 },
 "nbformat": 4,
 "nbformat_minor": 2
}
