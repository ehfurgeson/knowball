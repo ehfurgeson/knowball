{
 "cells": [
  {
   "cell_type": "markdown",
   "metadata": {},
   "source": [
    "Individual NBA player points regression \\\n",
    "Plans\n",
    "- gather and clean data from many sources\n",
    "    - save to a csv"
   ]
  },
  {
   "cell_type": "code",
   "execution_count": 2,
   "metadata": {},
   "outputs": [],
   "source": [
    "from nba_api.stats.endpoints import PlayerGameLogs\n",
    "from nba_api.stats.static import players\n",
    "import pandas as pd\n",
    "import numpy as np\n",
    "from datetime import datetime, timedelta\n",
    "import os"
   ]
  },
  {
   "cell_type": "code",
   "execution_count": 19,
   "metadata": {},
   "outputs": [],
   "source": [
    "df = pd.read_csv(\"./data/2023_nba_player_stats.csv\")"
   ]
  },
  {
   "cell_type": "code",
   "execution_count": null,
   "metadata": {},
   "outputs": [],
   "source": [
    "# Get the player game logs with the correct parameter\n",
    "player_game_logs = PlayerGameLogs(season_nullable='2023-24')\n",
    "player_game_logs_df = player_game_logs.get_data_frames()[0]\n",
    "\n",
    "# createa csv file with the player game logs\n",
    "player_game_logs_df.to_csv(\"./data/logs_2023_nba_players.csv\", index=False)"
   ]
  },
  {
   "cell_type": "code",
   "execution_count": 44,
   "metadata": {},
   "outputs": [
    {
     "name": "stdout",
     "output_type": "stream",
     "text": [
      "Index(['SEASON_YEAR', 'PLAYER_ID', 'PLAYER_NAME', 'NICKNAME', 'TEAM_ID',\n",
      "       'TEAM_ABBREVIATION', 'TEAM_NAME', 'GAME_ID', 'GAME_DATE', 'MATCHUP',\n",
      "       'WL', 'MIN', 'FGM', 'FGA', 'FG_PCT', 'FG3M', 'FG3A', 'FG3_PCT', 'FTM',\n",
      "       'FTA', 'FT_PCT', 'OREB', 'DREB', 'REB', 'AST', 'TOV', 'STL', 'BLK',\n",
      "       'BLKA', 'PF', 'PFD', 'PTS', 'PLUS_MINUS', 'NBA_FANTASY_PTS', 'DD2',\n",
      "       'TD3', 'WNBA_FANTASY_PTS', 'GP_RANK', 'W_RANK', 'L_RANK', 'W_PCT_RANK',\n",
      "       'MIN_RANK', 'FGM_RANK', 'FGA_RANK', 'FG_PCT_RANK', 'FG3M_RANK',\n",
      "       'FG3A_RANK', 'FG3_PCT_RANK', 'FTM_RANK', 'FTA_RANK', 'FT_PCT_RANK',\n",
      "       'OREB_RANK', 'DREB_RANK', 'REB_RANK', 'AST_RANK', 'TOV_RANK',\n",
      "       'STL_RANK', 'BLK_RANK', 'BLKA_RANK', 'PF_RANK', 'PFD_RANK', 'PTS_RANK',\n",
      "       'PLUS_MINUS_RANK', 'NBA_FANTASY_PTS_RANK', 'DD2_RANK', 'TD3_RANK',\n",
      "       'WNBA_FANTASY_PTS_RANK', 'AVAILABLE_FLAG', 'MIN_SEC'],\n",
      "      dtype='object')\n"
     ]
    }
   ],
   "source": [
    "print(player_game_logs_df.columns)"
   ]
  },
  {
   "cell_type": "code",
   "execution_count": null,
   "metadata": {},
   "outputs": [
    {
     "name": "stdout",
     "output_type": "stream",
     "text": [
      "Player ID: 201939\n",
      "    game_date  points    minutes  is_home  points_ma  minutes_played_ma  \\\n",
      "0  2024-04-12      33  32.393333     True       33.0          32.393333   \n",
      "1  2024-04-11      22  36.366667    False       27.5          34.380000   \n",
      "2  2024-04-09      23  32.316667    False       26.0          33.692222   \n",
      "3  2024-04-05      28  35.425000    False       26.5          34.125417   \n",
      "4  2024-04-04      29  30.663333    False       27.0          33.433000   \n",
      "..        ...     ...        ...      ...        ...                ...   \n",
      "69 2023-11-01      21  32.330000     True       27.2          32.326333   \n",
      "70 2023-10-30      42  30.033333    False       31.0          31.439667   \n",
      "71 2023-10-29      24  31.428333    False       29.0          31.199667   \n",
      "72 2023-10-27      41  34.833333    False       31.6          32.002000   \n",
      "73 2023-10-24      27  30.748333     True       31.0          31.874667   \n",
      "\n",
      "    days_rest  back_to_back  season_avg_points   last_5_games_points  \n",
      "0         NaN         False          33.000000                  [33]  \n",
      "1        -1.0         False          27.500000              [33, 22]  \n",
      "2        -2.0         False          26.000000          [33, 22, 23]  \n",
      "3        -4.0         False          26.500000      [33, 22, 23, 28]  \n",
      "4        -1.0         False          27.000000  [33, 22, 23, 28, 29]  \n",
      "..        ...           ...                ...                   ...  \n",
      "69       -2.0         False          26.028571  [23, 34, 28, 30, 21]  \n",
      "70       -2.0         False          26.253521  [34, 28, 30, 21, 42]  \n",
      "71       -1.0         False          26.222222  [28, 30, 21, 42, 24]  \n",
      "72       -2.0         False          26.424658  [30, 21, 42, 24, 41]  \n",
      "73       -3.0         False          26.432432  [21, 42, 24, 41, 27]  \n",
      "\n",
      "[74 rows x 10 columns]\n"
     ]
    }
   ],
   "source": [
    "import get_nba_data as nba\n",
    "# formerly the code in get_nba_data.py was in this box\n",
    "\n",
    "curry = nba.get_player_data(\"Stephen Curry\")\n",
    "print(curry)"
   ]
  }
 ],
 "metadata": {
  "kernelspec": {
   "display_name": "Python 3",
   "language": "python",
   "name": "python3"
  },
  "language_info": {
   "codemirror_mode": {
    "name": "ipython",
    "version": 3
   },
   "file_extension": ".py",
   "mimetype": "text/x-python",
   "name": "python",
   "nbconvert_exporter": "python",
   "pygments_lexer": "ipython3",
   "version": "3.11.6"
  }
 },
 "nbformat": 4,
 "nbformat_minor": 2
}
